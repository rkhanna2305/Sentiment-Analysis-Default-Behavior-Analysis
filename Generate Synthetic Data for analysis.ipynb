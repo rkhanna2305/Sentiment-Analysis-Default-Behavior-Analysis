{
 "cells": [
  {
   "cell_type": "code",
   "execution_count": null,
   "id": "56526b52",
   "metadata": {},
   "outputs": [],
   "source": []
  },
  {
   "cell_type": "code",
   "execution_count": 2,
   "id": "501a9e48",
   "metadata": {},
   "outputs": [
    {
     "name": "stdout",
     "output_type": "stream",
     "text": [
      "Generated dataset with 1000 records and saved to customer_data.csv.\n"
     ]
    }
   ],
   "source": [
    "import pandas as pd\n",
    "import random\n",
    "\n",
    "# Function to generate random customer reviews\n",
    "def generate_random_review():\n",
    "    reviews = [\n",
    "        \"I'm trying to catch up with my payments soon.\",\n",
    "        \"I appreciate the bank's patience.\",\n",
    "        \"Things are improving; I'll make a payment shortly.\",\n",
    "        \"I have some pending payments.\",\n",
    "        \"Please update me on my payment schedule.\",\n",
    "        \"I need more time to manage my finances.\",\n",
    "        \"The interest rates are too high!\",\n",
    "        \"I'm frustrated with the late fees.\",\n",
    "        \"I cannot keep up with the payments anymore.\"\n",
    "    ]\n",
    "    return random.choice(reviews)\n",
    "\n",
    "# Function to generate random customer data\n",
    "def generate_customer_data():\n",
    "    customer_id = f\"CUST{random.randint(10000, 99999)}\"\n",
    "    age = random.randint(18, 75)\n",
    "    region = random.choice([\"North\", \"South\", \"East\", \"West\", \"Central\"])\n",
    "    return customer_id, age, region\n",
    "\n",
    "# Function to generate synthetic data\n",
    "def generate_synthetic_data(num_records):\n",
    "    data = []\n",
    "    for _ in range(num_records):\n",
    "        customer_id, age, region = generate_customer_data()\n",
    "        payment_status = random.choice([\"Defaulted\", \"On Time\"])\n",
    "        review = generate_random_review()\n",
    "        data.append({\n",
    "            \"Customer ID\": customer_id,\n",
    "            \"Age\": age,\n",
    "            \"Region\": region,\n",
    "            \"Review\": review,\n",
    "            \"Payment Status\": payment_status\n",
    "        })\n",
    "    return pd.DataFrame(data)\n",
    "\n",
    "# Generate the synthetic dataset\n",
    "num_records = 1000\n",
    "dataset = generate_synthetic_data(num_records)\n",
    "\n",
    "# Save the dataset to a CSV file\n",
    "csv_file = \"customer_data.csv\"\n",
    "dataset.to_csv(csv_file, index=False)\n",
    "\n",
    "print(f\"Generated dataset with {num_records} records and saved to {csv_file}.\")\n"
   ]
  },
  {
   "cell_type": "code",
   "execution_count": 3,
   "id": "1e71480a",
   "metadata": {},
   "outputs": [
    {
     "name": "stdout",
     "output_type": "stream",
     "text": [
      "Generated dataset with 1000 records and saved to customer_data_with_date.csv.\n"
     ]
    }
   ],
   "source": [
    "import pandas as pd\n",
    "import random\n",
    "from datetime import datetime, timedelta\n",
    "\n",
    "# Function to generate random customer reviews\n",
    "def generate_random_review():\n",
    "    reviews = [\n",
    "        \"I'm trying to catch up with my payments soon.\",\n",
    "        \"I appreciate the bank's patience.\",\n",
    "        \"Things are improving; I'll make a payment shortly.\",\n",
    "        \"I have some pending payments.\",\n",
    "        \"Please update me on my payment schedule.\",\n",
    "        \"I need more time to manage my finances.\",\n",
    "        \"The interest rates are too high!\",\n",
    "        \"I'm frustrated with the late fees.\",\n",
    "        \"I cannot keep up with the payments anymore.\"\n",
    "    ]\n",
    "    return random.choice(reviews)\n",
    "\n",
    "# Function to generate random customer data\n",
    "def generate_customer_data():\n",
    "    customer_id = f\"CUST{random.randint(10000, 99999)}\"\n",
    "    age = random.randint(18, 75)\n",
    "    region = random.choice([\"North\", \"South\", \"East\", \"West\", \"Central\"])\n",
    "    return customer_id, age, region\n",
    "\n",
    "# Function to generate a random date\n",
    "def generate_random_date(start_date, end_date):\n",
    "    time_between_dates = end_date - start_date\n",
    "    random_days = random.randint(0, time_between_dates.days)\n",
    "    random_seconds = random.randint(0, 86400)  # Seconds in a day\n",
    "    random_date = start_date + timedelta(days=random_days, seconds=random_seconds)\n",
    "    return random_date.strftime(\"%d-%m-%Y %H:%M:%S\")\n",
    "\n",
    "# Function to generate synthetic data\n",
    "def generate_synthetic_data(num_records):\n",
    "    start_date = datetime(2020, 1, 1)  # Start date for random date generation\n",
    "    end_date = datetime(2024, 12, 31)  # End date for random date generation\n",
    "\n",
    "    data = []\n",
    "    for _ in range(num_records):\n",
    "        customer_id, age, region = generate_customer_data()\n",
    "        payment_status = random.choice([\"Defaulted\", \"On Time\"])\n",
    "        review = generate_random_review()\n",
    "        date = generate_random_date(start_date, end_date)\n",
    "        data.append({\n",
    "            \"Customer ID\": customer_id,\n",
    "            \"Age\": age,\n",
    "            \"Region\": region,\n",
    "            \"Review\": review,\n",
    "            \"Payment Status\": payment_status,\n",
    "            \"Date\": date\n",
    "        })\n",
    "    return pd.DataFrame(data)\n",
    "\n",
    "# Generate the synthetic dataset\n",
    "num_records = 1000\n",
    "dataset = generate_synthetic_data(num_records)\n",
    "\n",
    "# Save the dataset to a CSV file\n",
    "csv_file = \"customer_data_with_date.csv\"\n",
    "dataset.to_csv(csv_file, index=False)\n",
    "\n",
    "print(f\"Generated dataset with {num_records} records and saved to {csv_file}.\")\n"
   ]
  },
  {
   "cell_type": "code",
   "execution_count": null,
   "id": "88dc8773",
   "metadata": {},
   "outputs": [],
   "source": []
  }
 ],
 "metadata": {
  "kernelspec": {
   "display_name": "Python 3 (ipykernel)",
   "language": "python",
   "name": "python3"
  },
  "language_info": {
   "codemirror_mode": {
    "name": "ipython",
    "version": 3
   },
   "file_extension": ".py",
   "mimetype": "text/x-python",
   "name": "python",
   "nbconvert_exporter": "python",
   "pygments_lexer": "ipython3",
   "version": "3.11.5"
  }
 },
 "nbformat": 4,
 "nbformat_minor": 5
}
